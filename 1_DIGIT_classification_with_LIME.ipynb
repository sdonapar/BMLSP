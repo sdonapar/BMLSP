{
  "nbformat": 4,
  "nbformat_minor": 0,
  "metadata": {
    "colab": {
      "name": "1. DIGIT classification with LIME.ipynb",
      "provenance": [],
      "include_colab_link": true
    },
    "kernelspec": {
      "name": "python3",
      "display_name": "Python 3"
    }
  },
  "cells": [
    {
      "cell_type": "markdown",
      "metadata": {
        "id": "view-in-github",
        "colab_type": "text"
      },
      "source": [
        "<a href=\"https://colab.research.google.com/github/sdonapar/BMLSP/blob/master/1_DIGIT_classification_with_LIME.ipynb\" target=\"_parent\"><img src=\"https://colab.research.google.com/assets/colab-badge.svg\" alt=\"Open In Colab\"/></a>"
      ]
    },
    {
      "cell_type": "markdown",
      "metadata": {
        "id": "4X74lOjm2LCa",
        "colab_type": "text"
      },
      "source": [
        "# Understanding the DIGIT classification on MNIST dataset"
      ]
    },
    {
      "cell_type": "markdown",
      "metadata": {
        "id": "38iwQ9QO4dRf",
        "colab_type": "text"
      },
      "source": [
        "### MNIST data set consists of digits from 0- 9\n",
        "-  Each sample image is 28x28 and linearized as a vector of size 1x784. "
      ]
    },
    {
      "cell_type": "markdown",
      "metadata": {
        "id": "rfeiPje-2S8h",
        "colab_type": "text"
      },
      "source": [
        "# **Downloading the dependencies- LIME**"
      ]
    },
    {
      "cell_type": "code",
      "metadata": {
        "id": "0LSML3Mr2cpF",
        "colab_type": "code",
        "colab": {}
      },
      "source": [
        "#installing lime and other dependencies\n",
        "!pip install lime "
      ],
      "execution_count": 0,
      "outputs": []
    },
    {
      "cell_type": "markdown",
      "metadata": {
        "id": "ScTha9yV2aiD",
        "colab_type": "text"
      },
      "source": [
        "# **Importing necessary packages**"
      ]
    },
    {
      "cell_type": "code",
      "metadata": {
        "id": "j97TtZdytsWE",
        "colab_type": "code",
        "colab": {}
      },
      "source": [
        "import numpy as np\n",
        "import matplotlib.pyplot as plt\n",
        "from skimage.color import gray2rgb, rgb2gray, label2rgb # since the code wants color images"
      ],
      "execution_count": 0,
      "outputs": []
    },
    {
      "cell_type": "markdown",
      "metadata": {
        "id": "sK9rR51v2cPZ",
        "colab_type": "text"
      },
      "source": [
        "# **Fetching the dataset and adjusting the images (reshape for lime to function)**"
      ]
    },
    {
      "cell_type": "code",
      "metadata": {
        "id": "amxARb_Mwznh",
        "colab_type": "code",
        "colab": {}
      },
      "source": [
        "from sklearn.datasets import fetch_openml\n",
        "mnist = fetch_openml('mnist_784')\n",
        "# make each image color so lime_image works correctly\n",
        "X_vec = np.stack([gray2rgb(iimg) for iimg in mnist.data.reshape((-1, 28, 28))],0)\n",
        "y_vec = mnist.target.astype(np.uint8)"
      ],
      "execution_count": 0,
      "outputs": []
    },
    {
      "cell_type": "markdown",
      "metadata": {
        "id": "OlnWySY82t2Q",
        "colab_type": "text"
      },
      "source": [
        "# **Sample Image in dataset**"
      ]
    },
    {
      "cell_type": "code",
      "metadata": {
        "id": "5bzU-TQtw43I",
        "colab_type": "code",
        "colab": {}
      },
      "source": [
        "%matplotlib inline\n",
        "fig, ax1 = plt.subplots(1,1)\n",
        "ax1.imshow(X_vec[2], interpolation = 'none')\n",
        "ax1.set_title('Digit: {}'.format(y_vec[2]))"
      ],
      "execution_count": 0,
      "outputs": []
    },
    {
      "cell_type": "markdown",
      "metadata": {
        "id": "tv3ftAPy0JgE",
        "colab_type": "text"
      },
      "source": [
        "##**Let's Setup a pipeline**\n",
        "\n",
        "**For what?**\n",
        "- For processing the images where we flatten the image back to 1d vectors and then use a RandomForest Classifier.\n"
      ]
    },
    {
      "cell_type": "code",
      "metadata": {
        "id": "UzfMMf_O2I23",
        "colab_type": "code",
        "colab": {}
      },
      "source": [
        "#importing necessary libraries\n",
        "from sklearn.pipeline import Pipeline\n",
        "from sklearn.ensemble import RandomForestClassifier\n",
        "from sklearn.tree import DecisionTreeClassifier\n",
        "from sklearn.preprocessing import Normalizer\n",
        "from sklearn.model_selection import train_test_split"
      ],
      "execution_count": 0,
      "outputs": []
    },
    {
      "cell_type": "code",
      "metadata": {
        "id": "4jXLEcrLxQOM",
        "colab_type": "code",
        "colab": {}
      },
      "source": [
        "class PipeStep(object):\n",
        "    \"\"\"\n",
        "    Wrapper for turning functions into pipeline transforms (no-fitting)\n",
        "    \"\"\"\n",
        "    def __init__(self, step_func):\n",
        "        self._step_func=step_func\n",
        "    def fit(self,*args):\n",
        "        return self\n",
        "    def transform(self,X):\n",
        "        return self._step_func(X)"
      ],
      "execution_count": 0,
      "outputs": []
    },
    {
      "cell_type": "code",
      "metadata": {
        "id": "G6cvqVHt1-Sq",
        "colab_type": "code",
        "colab": {}
      },
      "source": [
        "#converting image to gray\n",
        "makegray_step = PipeStep(lambda img_list: [rgb2gray(img) for img in img_list])\n",
        "\n",
        "#Flatenning the image to 1D array\n",
        "flatten_step = PipeStep(lambda img_list: [img.ravel() for img in img_list])"
      ],
      "execution_count": 0,
      "outputs": []
    },
    {
      "cell_type": "code",
      "metadata": {
        "id": "Xst9OdV32AgI",
        "colab_type": "code",
        "colab": {}
      },
      "source": [
        "#Setting up the main pipeline\n",
        "simple_dt_pipeline = Pipeline([\n",
        "    ('Make Gray', makegray_step),\n",
        "    ('Flatten Image', flatten_step),\n",
        "    #('Normalize', Normalizer()),\n",
        "    #('PCA', PCA(16)),\n",
        "    ('DT', DecisionTreeClassifier(criterion = \"gini\", \n",
        "            random_state = 100,max_depth=7, min_samples_leaf=5) )\n",
        "                              ])"
      ],
      "execution_count": 0,
      "outputs": []
    },
    {
      "cell_type": "markdown",
      "metadata": {
        "id": "pMtZUBLS28Ak",
        "colab_type": "text"
      },
      "source": [
        "**Preparing the test train split for the model**"
      ]
    },
    {
      "cell_type": "code",
      "metadata": {
        "id": "DHhh-6ES2RTH",
        "colab_type": "code",
        "colab": {}
      },
      "source": [
        "X_train, X_test, y_train, y_test = train_test_split(X_vec, y_vec,\n",
        "                                                    train_size=0.55)"
      ],
      "execution_count": 0,
      "outputs": []
    },
    {
      "cell_type": "markdown",
      "metadata": {
        "id": "tMUg-QMp3CGd",
        "colab_type": "text"
      },
      "source": [
        "**Training the model**"
      ]
    },
    {
      "cell_type": "code",
      "metadata": {
        "id": "o6QpuS6i2UPD",
        "colab_type": "code",
        "outputId": "45fd83d1-a74c-4317-deef-1cba871ee1ed",
        "colab": {
          "base_uri": "https://localhost:8080/",
          "height": 274
        }
      },
      "source": [
        "#training a random forest\n",
        "simple_dt_pipeline.fit(X_train, y_train)"
      ],
      "execution_count": 0,
      "outputs": [
        {
          "output_type": "execute_result",
          "data": {
            "text/plain": [
              "Pipeline(memory=None,\n",
              "         steps=[('Make Gray', <__main__.PipeStep object at 0x7f7dd62dea20>),\n",
              "                ('Flatten Image', <__main__.PipeStep object at 0x7f7dd62deb00>),\n",
              "                ('DT',\n",
              "                 DecisionTreeClassifier(class_weight=None, criterion='gini',\n",
              "                                        max_depth=7, max_features=None,\n",
              "                                        max_leaf_nodes=None,\n",
              "                                        min_impurity_decrease=0.0,\n",
              "                                        min_impurity_split=None,\n",
              "                                        min_samples_leaf=5, min_samples_split=2,\n",
              "                                        min_weight_fraction_leaf=0.0,\n",
              "                                        presort=False, random_state=100,\n",
              "                                        splitter='best'))],\n",
              "         verbose=False)"
            ]
          },
          "metadata": {
            "tags": []
          },
          "execution_count": 9
        }
      ]
    },
    {
      "cell_type": "markdown",
      "metadata": {
        "id": "zjvyubrjSImT",
        "colab_type": "text"
      },
      "source": [
        "# Let's see how the decision tree performs"
      ]
    },
    {
      "cell_type": "code",
      "metadata": {
        "id": "A2qlj-bVSNEP",
        "colab_type": "code",
        "colab": {}
      },
      "source": [
        "y_pred = simple_dt_pipeline.predict(X_test)\n",
        "\n",
        "from sklearn.metrics import confusion_matrix\n",
        "from sklearn.metrics import accuracy_score\n",
        "from sklearn.metrics import classification_report, confusion_matrix\n",
        "\n",
        "\n",
        "print(\"Accuracy: \", accuracy_score(y_test, y_pred)*100 , \"%\")\n",
        "print(\"Confusion Matrix: \\n\",confusion_matrix(y_test, y_pred))\n",
        "print(\"\\n\\n\",classification_report(y_test, y_pred))"
      ],
      "execution_count": 0,
      "outputs": []
    },
    {
      "cell_type": "code",
      "metadata": {
        "id": "VuiP4w1C2aN1",
        "colab_type": "code",
        "outputId": "7c5a18f9-55b0-4dbc-99f4-2bc96136547b",
        "colab": {
          "base_uri": "https://localhost:8080/",
          "height": 54
        }
      },
      "source": [
        "%load_ext autoreload\n",
        "%autoreload 2\n",
        "import os,sys\n",
        "try:\n",
        "    import lime\n",
        "except:\n",
        "    sys.path.append(os.path.join('..', '..')) # add the current directory\n",
        "    import lime"
      ],
      "execution_count": 0,
      "outputs": [
        {
          "output_type": "stream",
          "text": [
            "The autoreload extension is already loaded. To reload it, use:\n",
            "  %reload_ext autoreload\n"
          ],
          "name": "stdout"
        }
      ]
    },
    {
      "cell_type": "markdown",
      "metadata": {
        "id": "9tCrCG6L4FSb",
        "colab_type": "text"
      },
      "source": [
        "## Explaining the inference using LIME.\n",
        "Does it explain better than our existing metrics?\n"
      ]
    },
    {
      "cell_type": "code",
      "metadata": {
        "id": "HQKMaXEX2pWB",
        "colab_type": "code",
        "colab": {}
      },
      "source": [
        "from lime import lime_image\n",
        "from lime.wrappers.scikit_image import SegmentationAlgorithm\n",
        "#LimeImageExplainer object explains the inference\n",
        "'''\n",
        "  lime.lime_image.LimeImageExplainer(kernel_width=0.25, verbose=False, feature_selection='auto')\n",
        "  verbose – if true, print local prediction values from linear model\n",
        "'''\n",
        "explainer = lime_image.LimeImageExplainer(verbose = False)"
      ],
      "execution_count": 0,
      "outputs": []
    },
    {
      "cell_type": "code",
      "metadata": {
        "id": "enuG9c6BzgkH",
        "colab_type": "code",
        "colab": {}
      },
      "source": [
        "'''\n",
        "first argument: algo_type: string, segmentation algorithm among the following: 'quickshift', 'slic', 'felzenszwalb'\n",
        "quickshift: segmentation using \n",
        "slic: segmentation using k-means\n",
        "felzenszwalb: minimum spanning tree based clustering on the image grid\n",
        "quickshift mode-seeking algorithm\n",
        "\n",
        "kernel_size = Width of Gaussian kernel used in smoothing\n",
        "max_dist: Cut-off point for data distances. Higher means fewer clusters.\n",
        "ratio: range [0,1] Balances color-space proximity and image-space proximity\n",
        "'''\n",
        "segmenter = SegmentationAlgorithm('quickshift', kernel_size=1, max_dist=200, ratio=0.2)"
      ],
      "execution_count": 0,
      "outputs": []
    },
    {
      "cell_type": "code",
      "metadata": {
        "id": "c73JqRqm2mA8",
        "colab_type": "code",
        "colab": {}
      },
      "source": [
        "%%time\n",
        "\n",
        "#testidx can be changed to check for different examples\n",
        "testidx = 7\n",
        "'''\n",
        "  An Explanation object (see explanation.py) with the corresponding explanations.\n",
        "'''\n",
        "\n",
        "explanation = explainer.explain_instance(X_test[testidx], \n",
        "                                         classifier_fn = simple_dt_pipeline.predict_proba, \n",
        "                                         top_labels=10, hide_color=0, num_samples=10000, segmentation_fn=segmenter)"
      ],
      "execution_count": 0,
      "outputs": []
    },
    {
      "cell_type": "code",
      "metadata": {
        "id": "gonc96HA2w8d",
        "colab_type": "code",
        "colab": {}
      },
      "source": [
        "#marking the positive features\n",
        "'''\n",
        "  num_features: number of superpixels to include in explanation\n",
        "  min_weight: minimum weight of the superpixels to include in explanation\n",
        "\n",
        "  Returns:\n",
        "            (image, mask), where image is a 3d numpy array and mask is a 2d\n",
        "            numpy array that can be used with\n",
        "            skimage.segmentation.mark_boundaries\n",
        "'''\n",
        "\n",
        "temp, mask = explanation.get_image_and_mask(y_test[testidx], positive_only=True, num_features=10, hide_rest=False, min_weight = 0.01)\n",
        "fig, (ax1, ax2) = plt.subplots(1,2, figsize = (8, 4))\n",
        "ax1.imshow(label2rgb(mask,temp, bg_label = 0), interpolation = 'nearest')\n",
        "ax1.set_title('Positive Regions for {}'.format(y_test[testidx]))\n",
        "\n"
      ],
      "execution_count": 0,
      "outputs": []
    },
    {
      "cell_type": "code",
      "metadata": {
        "id": "3EE_CEAd1rdU",
        "colab_type": "code",
        "colab": {}
      },
      "source": [
        "#marking the negative features\n",
        "temp, mask = explanation.get_image_and_mask(y_test[testidx], positive_only=False, num_features=10, hide_rest=False, min_weight = 0.01)\n",
        "ax2.imshow(label2rgb(3-mask,temp, bg_label = 0), interpolation = 'nearest')\n",
        "ax2.set_title('Positive/Negative Regions for {}'.format(y_test[testidx]))"
      ],
      "execution_count": 0,
      "outputs": []
    },
    {
      "cell_type": "markdown",
      "metadata": {
        "id": "eZTUPjEC3NHV",
        "colab_type": "text"
      },
      "source": [
        "##**Visualisation false positives for class of the select testidx**\n"
      ]
    },
    {
      "cell_type": "code",
      "metadata": {
        "id": "y-m-xSjE3IZO",
        "colab_type": "code",
        "colab": {}
      },
      "source": [
        "# now let's see this for every class\n",
        "idx = 10\n",
        "fig, m_axs = plt.subplots(2,5, figsize = (12,6))\n",
        "for i, c_ax in enumerate(m_axs.flatten()):\n",
        "    temp, mask = explanation.get_image_and_mask(i, positive_only=True, num_features=1000, hide_rest=False, min_weight = 0.01 )\n",
        "    c_ax.imshow(label2rgb(mask,X_test[idx], bg_label = 0), interpolation = 'nearest')\n",
        "    c_ax.set_title('Positive for {}\\nActual {}'.format(i, y_test[idx]))\n",
        "    c_ax.axis('off')"
      ],
      "execution_count": 0,
      "outputs": []
    },
    {
      "cell_type": "markdown",
      "metadata": {
        "id": "Db_mgQch3sbn",
        "colab_type": "text"
      },
      "source": [
        "##Can we find an explanation for a classification that the algorithm classified incorrectly??"
      ]
    },
    {
      "cell_type": "markdown",
      "metadata": {
        "id": "pj3vn-Ttc6f1",
        "colab_type": "text"
      },
      "source": [
        "# **EXERCISE**\n",
        "Here you can run the below cell, where a random wrong predciton is analysed.\n",
        "- You can change parameters like num_samples, top_labels and see the effect of adding parameter batch_size=10 and change the value of batch size.\n",
        "- You can also change the segmenter by changing Segmentation algorithm here. Choose from these ['quickshift', 'slic', 'felzenszwalb']\n",
        "\n",
        "\n",
        "```\n",
        "SegmentationAlgorithm('quickshift', kernel_size=1, max_dist=200, ratio=0.2)\n",
        "```\n",
        "\n",
        "\n",
        "\n"
      ]
    },
    {
      "cell_type": "code",
      "metadata": {
        "id": "cgL9ObR23rRR",
        "colab_type": "code",
        "outputId": "24fb1ab7-3e5a-4740-9c7c-635f6d5374e6",
        "colab": {
          "base_uri": "https://localhost:8080/",
          "height": 35
        }
      },
      "source": [
        "pipe_pred_test = simple_dt_pipeline.predict(X_test)\n",
        "\n",
        "#selecting a random \n",
        "wrong_idx = np.random.choice(np.where(pipe_pred_test!=y_test)[0])\n",
        "\n",
        "print('Using #{} where the label was {} and the pipeline predicted {}'.format(wrong_idx, y_test[wrong_idx], pipe_pred_test[wrong_idx]))"
      ],
      "execution_count": 0,
      "outputs": [
        {
          "output_type": "stream",
          "text": [
            "Using #22061 where the label was 3 and the pipeline predicted 9\n"
          ],
          "name": "stdout"
        }
      ]
    },
    {
      "cell_type": "code",
      "metadata": {
        "id": "my1obLI937HH",
        "colab_type": "code",
        "outputId": "c9014c0d-51c2-4bb9-9c1e-14501c00704c",
        "colab": {
          "base_uri": "https://localhost:8080/",
          "height": 54
        }
      },
      "source": [
        "#time elapsed for prediction\n",
        "\n",
        "%%time\n",
        "segmenter = SegmentationAlgorithm('quickshift', kernel_size=1, max_dist=200, ratio=0.2)\n",
        "explanation = explainer.explain_instance(X_test[wrong_idx], \n",
        "                                         classifier_fn = simple_dt_pipeline.predict_proba, \n",
        "                                         top_labels=10, hide_color=0, num_samples=10000, segmentation_fn=segmenter)"
      ],
      "execution_count": 0,
      "outputs": [
        {
          "output_type": "stream",
          "text": [
            "CPU times: user 2.04 s, sys: 796 ms, total: 2.84 s\n",
            "Wall time: 2.17 s\n"
          ],
          "name": "stdout"
        }
      ]
    },
    {
      "cell_type": "markdown",
      "metadata": {
        "id": "MsarVuGK4Dzq",
        "colab_type": "text"
      },
      "source": [
        "##Comparing predicted vs Actual class"
      ]
    },
    {
      "cell_type": "code",
      "metadata": {
        "id": "I7T3bs4S4AGm",
        "colab_type": "code",
        "colab": {}
      },
      "source": [
        "# now show them for each class\n",
        "fig, m_axs = plt.subplots(2,5, figsize = (12,6))\n",
        "for i, c_ax in enumerate(m_axs.flatten()):\n",
        "    temp, mask = explanation.get_image_and_mask(i, positive_only=True, num_features=10, hide_rest=False, min_weight = 0.01 )\n",
        "    c_ax.imshow(label2rgb(mask,temp, bg_label = 0), interpolation = 'nearest')\n",
        "    c_ax.set_title('Positive for {}\\nActual {}'.format(i, y_test[wrong_idx]))\n",
        "    c_ax.axis('off')"
      ],
      "execution_count": 0,
      "outputs": []
    },
    {
      "cell_type": "markdown",
      "metadata": {
        "id": "aq5N1IdbADAF",
        "colab_type": "text"
      },
      "source": [
        "# Summary and Resources"
      ]
    },
    {
      "cell_type": "markdown",
      "metadata": {
        "id": "lgi8sOQ64XHK",
        "colab_type": "text"
      },
      "source": [
        "Here, we have used Random forest to classify the digits\n",
        "- To learn more about how random forest works: https://bit.ly/2r1WxbQ\n",
        "- A description of MNIST dataset: https://en.wikipedia.org/wiki/MNIST_database\n",
        "- Understanding how LIME works on regression try this: https://pythondata.com/local-interpretable-model-agnostic-explanations-lime-python/"
      ]
    }
  ]
}